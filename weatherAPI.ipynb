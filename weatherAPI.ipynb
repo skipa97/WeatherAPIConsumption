{
 "cells": [
  {
   "cell_type": "code",
   "execution_count": 1,
   "metadata": {},
   "outputs": [],
   "source": [
    "    import requests"
   ]
  },
  {
   "cell_type": "code",
   "execution_count": 26,
   "metadata": {},
   "outputs": [
    {
     "name": "stdout",
     "output_type": "stream",
     "text": [
      "Enter city name: midrand\n",
      "Weather:  broken clouds\n",
      "The temperature in the area is:  21.92\n"
     ]
    }
   ],
   "source": [
    "api_key = \"96410e6d139d3948ba0883220206f458\"\n",
    "#where are we sending the request?\n",
    "base_url = \"https://api.openweathermap.org/data/2.5/weather\"\n",
    "\n",
    "city = input(\"Enter city name: \")\n",
    "request_url = f\"{base_url}?q={city}&appid={api_key}\"\n",
    "\n",
    "#sending a request to the server\n",
    "\n",
    "response = requests.get(request_url)\n",
    "\n",
    "if response.status_code == 200:\n",
    "    \n",
    "    data = response.json()\n",
    "    #getting the weather\n",
    "    weather = data['weather'][0]['description']\n",
    "    print(\"Weather: \",weather)\n",
    "    temperature = round(data[\"main\"][\"temp\"] - 273.15, 2)\n",
    "    print(\"The temperature in the area is: \",temperature)\n",
    "else:\n",
    "    print (\"not working\")\n"
   ]
  },
  {
   "cell_type": "code",
   "execution_count": 24,
   "metadata": {
    "collapsed": true
   },
   "outputs": [
    {
     "data": {
      "text/plain": [
       "{'coord': {'lon': 26.8671, 'lat': -26.8507},\n",
       " 'weather': [{'id': 800,\n",
       "   'main': 'Clear',\n",
       "   'description': 'clear sky',\n",
       "   'icon': '01d'}],\n",
       " 'base': 'stations',\n",
       " 'main': {'temp': 297.56,\n",
       "  'feels_like': 297.26,\n",
       "  'temp_min': 297.56,\n",
       "  'temp_max': 297.56,\n",
       "  'pressure': 1015,\n",
       "  'humidity': 46,\n",
       "  'sea_level': 1015,\n",
       "  'grnd_level': 872},\n",
       " 'visibility': 10000,\n",
       " 'wind': {'speed': 3.14, 'deg': 336, 'gust': 2.17},\n",
       " 'clouds': {'all': 9},\n",
       " 'dt': 1669712234,\n",
       " 'sys': {'country': 'ZA', 'sunrise': 1669691458, 'sunset': 1669740657},\n",
       " 'timezone': 7200,\n",
       " 'id': 989921,\n",
       " 'name': 'Khuma',\n",
       " 'cod': 200}"
      ]
     },
     "execution_count": 24,
     "metadata": {},
     "output_type": "execute_result"
    }
   ],
   "source": []
  }
 ],
 "metadata": {
  "kernelspec": {
   "display_name": "Python 3",
   "language": "python",
   "name": "python3"
  },
  "language_info": {
   "codemirror_mode": {
    "name": "ipython",
    "version": 3
   },
   "file_extension": ".py",
   "mimetype": "text/x-python",
   "name": "python",
   "nbconvert_exporter": "python",
   "pygments_lexer": "ipython3",
   "version": "3.7.6"
  }
 },
 "nbformat": 4,
 "nbformat_minor": 4
}
